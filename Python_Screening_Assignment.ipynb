{
  "nbformat": 4,
  "nbformat_minor": 0,
  "metadata": {
    "colab": {
      "name": "Python Screening Assignment.ipynb",
      "provenance": [],
      "collapsed_sections": []
    },
    "kernelspec": {
      "name": "python3",
      "display_name": "Python 3"
    },
    "language_info": {
      "name": "python"
    }
  },
  "cells": [
    {
      "cell_type": "markdown",
      "source": [
        "**Q1 :Create a function in python to read the text file and replace specific content of the file.**"
      ],
      "metadata": {
        "id": "HnVjh5RFks8s"
      }
    },
    {
      "cell_type": "code",
      "execution_count": 35,
      "metadata": {
        "id": "gDCjUhgTPc7-"
      },
      "outputs": [],
      "source": [
        "import pandas as pd \n",
        "import numpy as np "
      ]
    },
    {
      "cell_type": "code",
      "source": [
        "L = [\"This is a placement assignment\"]\n",
        "  \n",
        "# Writing to a file\n",
        "file1 = open('example.txt', 'w')\n",
        "file1.writelines((L))\n",
        "file1.close()\n",
        "  \n",
        "# Using readline()\n",
        "file1 = open('example.txt', 'r')\n",
        "count = 0\n",
        "  \n",
        "while True:\n",
        "    count += 1\n",
        "  \n",
        "    # Get next line from file\n",
        "    line = file1.readline()\n",
        "  \n",
        "    # if line is empty\n",
        "    # end of file is reached\n",
        "    if not line:\n",
        "        break\n",
        "    print(\"Line{}: {}\".format(count, line.strip()))\n",
        "  \n",
        "file1.close()"
      ],
      "metadata": {
        "colab": {
          "base_uri": "https://localhost:8080/"
        },
        "id": "iF6lYDbNRkaV",
        "outputId": "266d1767-12e8-46f9-c403-fe3dc73698c8"
      },
      "execution_count": 36,
      "outputs": [
        {
          "output_type": "stream",
          "name": "stdout",
          "text": [
            "Line1: This is a placement assignment\n"
          ]
        }
      ]
    },
    {
      "cell_type": "code",
      "source": [
        "file1"
      ],
      "metadata": {
        "colab": {
          "base_uri": "https://localhost:8080/"
        },
        "id": "CvFYzH9XSnde",
        "outputId": "fdd7750b-a4f7-41c7-d6ec-86807a127ba8"
      },
      "execution_count": 37,
      "outputs": [
        {
          "output_type": "execute_result",
          "data": {
            "text/plain": [
              "<_io.TextIOWrapper name='example.txt' mode='r' encoding='UTF-8'>"
            ]
          },
          "metadata": {},
          "execution_count": 37
        }
      ]
    },
    {
      "cell_type": "code",
      "source": [
        "import sys\n",
        "import fileinput\n",
        " \n",
        "x = input(\"Enter text to be replaced:\")\n",
        "y = input(\"Enter replacement text\")\n",
        " \n",
        "for l in fileinput.input(files = \"example.txt\"):\n",
        "    l = l.replace(x, y)\n",
        "    sys.stdout.write(l)"
      ],
      "metadata": {
        "colab": {
          "base_uri": "https://localhost:8080/"
        },
        "id": "z5pfejcZVssy",
        "outputId": "800162eb-26cd-4025-deb5-e3041140d6ac"
      },
      "execution_count": 38,
      "outputs": [
        {
          "output_type": "stream",
          "name": "stdout",
          "text": [
            "Enter text to be replaced:placement\n",
            "Enter replacement textscreening\n",
            "This is a screening assignment"
          ]
        }
      ]
    },
    {
      "cell_type": "markdown",
      "source": [
        "**Q2 : Demonstrate use of abstract class, multiple inheritance and decorator in\n",
        "python using examples**"
      ],
      "metadata": {
        "id": "WG7eeruWZwUt"
      }
    },
    {
      "cell_type": "markdown",
      "source": [
        "## **MULTIPLE INHERITANCE**"
      ],
      "metadata": {
        "id": "PXFPzRhMkDfG"
      }
    },
    {
      "cell_type": "markdown",
      "source": [
        "Multiple Inheritance is feature of Object oriented programming language in which we can inherite characteristics and features from more than one parent object or the parent class.\n",
        "Base1 + Base2 = Derived with features of Base1 and Base2 with features of derived."
      ],
      "metadata": {
        "id": "HZs8vgLtlG2c"
      }
    },
    {
      "cell_type": "code",
      "source": [
        "# Performing Addition,Multiplication,Division using Multiple Inheritance\n",
        "\n",
        "class Calculation1:  \n",
        "    def Summation(self,a,b):  \n",
        "        return a+b;  \n",
        "class Calculation2:  \n",
        "    def Multiplication(self,a,b):  \n",
        "        return a*b;  \n",
        "class Derived(Calculation1,Calculation2):  \n",
        "    def Divide(self,a,b):  \n",
        "        return a/b;  \n",
        "d = Derived()  \n",
        "print(d.Summation(1,2))       # summation of 1 and 2 so ans should be 3\n",
        "print(d.Multiplication(1,2))  #multiplication of 1 and 2 so ans should be 2\n",
        "print(d.Divide(1,2))          #its 1divide 2 so ans should be 0.5"
      ],
      "metadata": {
        "colab": {
          "base_uri": "https://localhost:8080/"
        },
        "id": "N3WzSKIEWA9m",
        "outputId": "d22d8aa4-cf30-49b5-ed48-07d7ed99d417"
      },
      "execution_count": 39,
      "outputs": [
        {
          "output_type": "stream",
          "name": "stdout",
          "text": [
            "3\n",
            "2\n",
            "0.5\n"
          ]
        }
      ]
    },
    {
      "cell_type": "markdown",
      "source": [
        "\n",
        "* Here in above program we have 2 base classes named as Calculation1 and Calculation2. Calculation1 class performs addition process while Calculation2 performs multiplication process.  \n",
        "*  Class named Derived is combination of both classes Calculation1 and Calculation2.\n",
        "* Now, in the Derived class we have both an addition and multiplication operation along with its own operation division.  \n",
        "This is how we implement multiple inheritance using Base and derived classes.\n",
        "\n"
      ],
      "metadata": {
        "id": "bKYH84GEaoPm"
      }
    },
    {
      "cell_type": "markdown",
      "source": [
        "# **Decorator**"
      ],
      "metadata": {
        "id": "BvNy8x92okyA"
      }
    },
    {
      "cell_type": "markdown",
      "source": [
        "Decorators are a very powerful and useful tool in Python since it allows programmers to modify the behaviour of function or class. Decorators allow us to wrap another function in order to extend the behaviour of the wrapped function, without permanently modifying it."
      ],
      "metadata": {
        "id": "pUE5wPPrqjVP"
      }
    },
    {
      "cell_type": "code",
      "source": [
        "# example of decorator\n",
        "def sampleDecorator(func):\n",
        "    def addingFunction():\n",
        "        # some new statments or flow control\n",
        "        print(\"Hii My name is NIKITA\")\n",
        "        # calling the function\n",
        "        func()\n",
        "\n",
        "    return addingFunction\n",
        "\n",
        "@sampleDecorator\n",
        "def actualFunction():\n",
        "    print(\"I love coding.\")\n",
        "\n",
        "\n",
        "actualFunction()"
      ],
      "metadata": {
        "colab": {
          "base_uri": "https://localhost:8080/"
        },
        "id": "_y8wkosac40F",
        "outputId": "956c610d-714e-4b64-ed2a-9c67b2024fb0"
      },
      "execution_count": 40,
      "outputs": [
        {
          "output_type": "stream",
          "name": "stdout",
          "text": [
            "Hii My name is NIKITA\n",
            "I love coding.\n"
          ]
        }
      ]
    },
    {
      "cell_type": "markdown",
      "source": [
        "In the above code,there is a special character @, which mainly indicates that the function which is defined just below it, will be decorated using the sampleDecorator function.We are mainly overwriting the function actualFunction using the sampleDecorator function where we are passing the actualFunction as argument of the decorator function."
      ],
      "metadata": {
        "id": "9I6Rhvl6shM5"
      }
    },
    {
      "cell_type": "code",
      "source": [
        "#Python Decorator Example with single argument\n",
        "def flowerDecorator(table):\n",
        "    def newFlowerTable(n):\n",
        "        print(\"We are decorating the table.\")\n",
        "        print(\"You wanted to keep %d flowers on the table.\" % n)\n",
        "\n",
        "        table(n)\n",
        "\n",
        "        print(\"Our decoration is done\")\n",
        "\n",
        "    return newFlowerTable\n",
        "\n",
        "\n",
        "@flowerDecorator\n",
        "def flowerTable(n):\n",
        "    print(\"We have a flowers on the table.\")\n",
        "\n",
        "\n",
        "flowerTable(6)"
      ],
      "metadata": {
        "colab": {
          "base_uri": "https://localhost:8080/"
        },
        "id": "NDFg7cuLs0sx",
        "outputId": "53e70b51-d80a-4afd-fe8a-404bdb8f08dc"
      },
      "execution_count": 41,
      "outputs": [
        {
          "output_type": "stream",
          "name": "stdout",
          "text": [
            "We are decorating the table.\n",
            "You wanted to keep 6 flowers on the table.\n",
            "We have a flowers on the table.\n",
            "Our decoration is done\n"
          ]
        }
      ]
    },
    {
      "cell_type": "markdown",
      "source": [
        "We call the function flowerTable(6).This function is being decorated by another function named flowerDecorator.The flowerTable is sent as an argument.\n",
        "\n",
        "Notice that flowerTable takes a parameter. In the flowerDecorator function, we are defining a new function named newFlowerTable that will wrap the actual function and notice this function will have the exactly same number or parameter that the actual function ( flowerTable ) takes.\n",
        "\n",
        "Then we are adding some new functionalities (printing some message) to it and calling the actual function with parameter which was sent as argument to the flowerDecorator. And then finally we returned the newFlowerTable which received and we get the output as we decorated it."
      ],
      "metadata": {
        "id": "J_yameL7uApH"
      }
    },
    {
      "cell_type": "markdown",
      "source": [
        "# **Abstract class**"
      ],
      "metadata": {
        "id": "BW8exBDnu81d"
      }
    },
    {
      "cell_type": "markdown",
      "source": [
        "An abstract class is a class that cannot be instantiated. However, you can create classes that inherit from an abstract class.\n",
        "\n",
        "Typically, you use an abstract class to create a blueprint for other classes.\n",
        "\n",
        "Similarly, an abstract method is an method without an implementation. An abstract class may or may not include abstract methods.\n",
        "\n",
        "Python doesn’t directly support abstract classes. But it does offer a module that allows you to define abstract classes.\n",
        "\n",
        "To define an abstract class, you use the **abc** (abstract base class) module.\n",
        "\n",
        "The **abc** module provides you with the infrastructure for defining abstract base classes."
      ],
      "metadata": {
        "id": "OLriXD91vBr1"
      }
    },
    {
      "cell_type": "markdown",
      "source": [
        "Let’s say we want to show different colors. To do this we create a basic abstract class Color which would contain the blueprint for specific color to follow. This class will provide the methods that are needed to be implemented by its child classes for specific color."
      ],
      "metadata": {
        "id": "VrJx68ZyxNeL"
      }
    },
    {
      "cell_type": "code",
      "source": [
        "#Color Class\n",
        "from abc import ABC, abstractmethod\n",
        " \n",
        "class Color(ABC):\n",
        "    def __init__(self, Color_name):\n",
        "        self.Color_name = Color_name\n",
        "    \n",
        "    @abstractmethod\n",
        "    def show(self):\n",
        "        pass"
      ],
      "metadata": {
        "id": "E08HP8gHv0Wr"
      },
      "execution_count": 42,
      "outputs": []
    },
    {
      "cell_type": "markdown",
      "source": [
        "As you may say that we have declared an undefined method show(). This method will be implemented by the other classes that inherit this class.\n",
        "\n",
        "For example, If we want to show Blue color. We create a class Blue that will inherit the Color class and implement the show() method. Let's see the implementation of the Blue class :"
      ],
      "metadata": {
        "id": "2wEY6Sxlxs3-"
      }
    },
    {
      "cell_type": "code",
      "source": [
        "#from Color import Color\n",
        " \n",
        "class Blue(Color):\n",
        "    def __init__(self):\n",
        "        super().__init__(\"Blue\")\n",
        " \n",
        "    def show(self):\n",
        "        print(\"Its Blue color\")\n",
        " \n",
        "#create a circle object\n",
        "blue = Blue()\n",
        "blue.show()        "
      ],
      "metadata": {
        "colab": {
          "base_uri": "https://localhost:8080/"
        },
        "id": "WWmlzO_px9wN",
        "outputId": "a8c998ef-e75f-4776-cb15-6e434051e556"
      },
      "execution_count": 43,
      "outputs": [
        {
          "output_type": "stream",
          "name": "stdout",
          "text": [
            "Its Blue color\n"
          ]
        }
      ]
    },
    {
      "cell_type": "markdown",
      "source": [
        "Similarly, we can create as many specific color classes as we want with the Color class being the main abstract class."
      ],
      "metadata": {
        "id": "lekkcyDTz-Bj"
      }
    },
    {
      "cell_type": "markdown",
      "source": [
        "abstract classes are used to create a blueprint of our classes as they don't contain the method implementation. This is a very useful capability especially in situations where child classes should provide their own separate implementation. Also, in complex projects involving large teams and a huge codebase, It is fairly difficult to remember all the class names"
      ],
      "metadata": {
        "id": "teou4X7Z0ND0"
      }
    }
  ]
}